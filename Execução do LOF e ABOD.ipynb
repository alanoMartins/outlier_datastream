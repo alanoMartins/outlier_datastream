{
 "cells": [
  {
   "cell_type": "markdown",
   "metadata": {},
   "source": [
    "# Executando um fluxo com dataset sintético\n",
    "> Para demonstração, foi utlizado apenas um dataset sintético com números pequenos de dados, pois o jupter notebook irá rodar apenas num núcleo do processador, aumentando consideravelmente o tempo do experimento"
   ]
  },
  {
   "cell_type": "markdown",
   "metadata": {},
   "source": [
    "## Importando as bibliotecas usadas"
   ]
  },
  {
   "cell_type": "code",
   "execution_count": 51,
   "metadata": {},
   "outputs": [],
   "source": [
    "import numpy as np\n",
    "from pyod.models.abod import ABOD\n",
    "from pyod.models.lof import LOF"
   ]
  },
  {
   "cell_type": "markdown",
   "metadata": {},
   "source": [
    "## Criando uma classe para obter o dataset de acordo com o experimento"
   ]
  },
  {
   "cell_type": "code",
   "execution_count": 52,
   "metadata": {},
   "outputs": [],
   "source": [
    "import pandas as pd\n",
    "import numpy as np\n",
    "\n",
    "\n",
    "class DataGenerator:\n",
    "    def __init__(self, dataset=1):\n",
    "        self.dataset = dataset\n",
    "\n",
    "    def generate(self):\n",
    "        if self.dataset == 1:\n",
    "            return self.florest_Cover()\n",
    "        elif self.dataset == 2:\n",
    "            return self.gauss()\n",
    "        elif self.dataset == 3:\n",
    "            return self.tao()\n",
    "        else:\n",
    "            raise AttributeError(\"Choose a valid dataset!\")\n",
    "\n",
    "    def florest_Cover(self):\n",
    "        path = \"dataset/covtypeNorm.csv\"\n",
    "        data = pd.read_csv(path, header=None).iloc[:5000, :]\n",
    "        cl2 = data.loc[data[54] == 2]\n",
    "        cl4 = data.loc[data[54] == 4]\n",
    "        cl2.drop(cl2.columns[54], axis=1, inplace=True)\n",
    "        cl4.drop(cl4.columns[54], axis=1, inplace=True)\n",
    "        inliers = cl2\n",
    "        outliers = cl4\n",
    "        return inliers.values, outliers.values\n",
    "\n",
    "    def tao(self):\n",
    "        number_outlier = 100\n",
    "        path = \"dataset/tao.csv\"\n",
    "        data = pd.read_csv(path, header=None).iloc[:3000, :]\n",
    "        outliers = np.random.uniform(low=80, high=160, size=(number_outlier, 4))\n",
    "        return data.values, outliers\n",
    "\n",
    "    def gauss(self):\n",
    "        number_inlier = 10000\n",
    "        number_outlier = 10\n",
    "        offset = 10\n",
    "\n",
    "        np.random.seed(42)\n",
    "        data_1 = 10 * np.random.randn(number_inlier // 2, 2) - offset\n",
    "        data_2 = 10 * np.random.randn(number_inlier // 2, 2) + offset\n",
    "        inliers = np.r_[data_1, data_2]\n",
    "        outliers = np.random.uniform(low=-60, high=60, size=(number_outlier, 2))\n",
    "        return inliers, outliers\n"
   ]
  },
  {
   "cell_type": "markdown",
   "metadata": {},
   "source": [
    "## Criando arquitetura para simular uma stream de dados"
   ]
  },
  {
   "cell_type": "code",
   "execution_count": 53,
   "metadata": {},
   "outputs": [],
   "source": [
    "import time\n",
    "import numpy as np\n",
    "\n",
    "\n",
    "class Streamer:\n",
    "\n",
    "    def on_start(self, data):\n",
    "        raise NotImplementedError(\"Please Implement this method\")\n",
    "\n",
    "    def on_receive(self, data):\n",
    "        raise NotImplementedError(\"Please Implement this method\")\n",
    "\n",
    "    def on_finish(self):\n",
    "        raise NotImplementedError(\"Please Implement this method\")\n",
    "\n",
    "    def __init__(self, data):\n",
    "        self.data = data\n",
    "        self.stats = {}\n",
    "\n",
    "    def run(self, data_stream, window_size=.1, slide=.05):\n",
    "        start = time.time()\n",
    "        self.on_start(self.data)\n",
    "        self.data_stream = data_stream\n",
    "        absolute_size = int(len(data_stream) * window_size)\n",
    "        absolute_slide = int(absolute_size * slide)\n",
    "        initial_index = 0\n",
    "        final_index = absolute_size\n",
    "\n",
    "        # Se o tamanho absoluto for próximo de zero, gera um loop infinito\n",
    "        if absolute_size == 0:\n",
    "            raise AttributeError(\"Window size is too small\")\n",
    "\n",
    "        if absolute_slide == 0:\n",
    "            raise AttributeError(\"Slide is too small\")\n",
    "\n",
    "        while final_index <= len(data_stream):\n",
    "            if len(data_stream) <= final_index + absolute_slide:\n",
    "                final_index = len(data_stream)\n",
    "            window = data_stream[initial_index:final_index]\n",
    "            self.on_receive(window, initial_index, final_index)\n",
    "            initial_index += absolute_slide\n",
    "            final_index += absolute_slide\n",
    "        end = time.time()\n",
    "        self.on_finish()\n",
    "        self.stats[\"time\"] = end - start\n",
    "\n",
    "\n",
    "class OutlierStream(Streamer):\n",
    "\n",
    "    def __init__(self, inliers, outliers):\n",
    "        self.ground_truth = []\n",
    "        [self.ground_truth.append(1) for outlier in outliers]\n",
    "        [self.ground_truth.append(0) for inline in inliers]\n",
    "        data_total = np.concatenate((outliers, inliers), axis=0)\n",
    "        Streamer.__init__(self, data_total)\n",
    "        self.predictions = np.zeros(len(data_total))\n",
    "\n",
    "    def on_receive(self, data_window, initial_index, final_index):\n",
    "        y_pred = self.predict_model(data_window)\n",
    "        self.predictions[initial_index:final_index] += y_pred\n",
    "        self.update_model(data_window)\n",
    "\n",
    "    def on_finish(self):\n",
    "        self.summary(self.ground_truth, self.predictions)\n",
    "\n",
    "    def on_start(self, data):\n",
    "        self.train_model(data)\n",
    "\n",
    "    def train_model(self, data):\n",
    "        raise NotImplementedError(\"Please Implement this method\")\n",
    "\n",
    "    def update_model(self, data):\n",
    "        raise NotImplementedError(\"Please Implement this method\")\n",
    "\n",
    "    def predict_model(self, data):\n",
    "        raise NotImplementedError(\"Please Implement this method\")\n",
    "\n",
    "    def summary(self, predictions):\n",
    "        raise NotImplementedError(\"Please Implement this method\")"
   ]
  },
  {
   "cell_type": "markdown",
   "metadata": {},
   "source": [
    "## Criando o modelo base para experimentos"
   ]
  },
  {
   "cell_type": "code",
   "execution_count": 61,
   "metadata": {},
   "outputs": [],
   "source": [
    "from streamer import OutlierStream\n",
    "import numpy as np\n",
    "from sklearn.metrics import confusion_matrix, accuracy_score, precision_score, recall_score, f1_score\n",
    "import matplotlib.pyplot as plt\n",
    "from scipy import stats\n",
    "\n",
    "\n",
    "class TemplateOutlier(OutlierStream):\n",
    "\n",
    "    def __init__(self, inliers, outliers, model):\n",
    "        data_total = np.concatenate((inliers, outliers), axis=0)\n",
    "        self.data_total = data_total\n",
    "        self.outliers = outliers\n",
    "        self.inliers = inliers\n",
    "\n",
    "        OutlierStream.__init__(self, inliers, outliers)\n",
    "        self.model = model\n",
    "\n",
    "    def train_model(self, data):\n",
    "        self.model.fit(data)\n",
    "        scores_pred = self.model.decision_function(data) * -1\n",
    "        self.threshold = stats.scoreatpercentile(scores_pred, 100 * 0.006)\n",
    "\n",
    "    def update_model(self, data):\n",
    "        return None\n",
    "\n",
    "    def predict_model(self, data):\n",
    "        return self.model.predict(data)\n",
    "\n",
    "    def summary(self, ground_truth, predictions, is_plot=False):\n",
    "\n",
    "        predictions = list(map(lambda x: 1 if x > 0 else 0, predictions))\n",
    "\n",
    "        acc = accuracy_score(predictions, ground_truth)\n",
    "        precision = precision_score(predictions, ground_truth)\n",
    "        recall = recall_score(predictions, ground_truth)\n",
    "        f1 = f1_score(predictions, ground_truth)\n",
    "\n",
    "        self.stats[\"f1\"] = f1\n",
    "        self.stats[\"recall\"] = recall\n",
    "        self.stats[\"precision\"] = precision\n",
    "        self.stats[\"accuracy\"] = acc\n",
    "\n",
    "        print(confusion_matrix(predictions, ground_truth))\n",
    "\n",
    "        if is_plot:\n",
    "            self._plot()\n",
    "\n",
    "    def _plot(self):\n",
    "\n",
    "        xx, yy = np.meshgrid(np.linspace(-70, 70, 100), np.linspace(-70, 70, 100))\n",
    "        Z = self.model.decision_function(np.c_[xx.ravel(), yy.ravel()]) * -1\n",
    "        Z = Z.reshape(xx.shape)\n",
    "\n",
    "        subplot = plt.subplot(1, 1, 1)\n",
    "        subplot.contourf(xx, yy, Z, levels=np.linspace(Z.min(), self.threshold, 7), cmap=plt.cm.Blues_r)\n",
    "        subplot.contourf(xx, yy, Z, levels=[self.threshold, Z.max()], colors='orange')\n",
    "\n",
    "        a = subplot.contour(xx, yy, Z, levels=[self.threshold], linewidths=2, colors='red')\n",
    "        subplot.contourf(xx, yy, Z, levels=[self.threshold, Z.max()], colors='orange')\n",
    "        b = subplot.scatter(self.outliers[:, 0], self.outliers[:, 1], c='red', s=12, edgecolor='k')\n",
    "        c = subplot.scatter(self.inliers[:, 0], self.inliers[:, 1], c='white', s=12, edgecolor='k')\n",
    "        subplot.axis('tight')\n",
    "        subplot.legend(\n",
    "            [a.collections[0], b, c],\n",
    "            ['Borda da funcao', 'Outliers', 'Inliers'],\n",
    "            loc='lower right')\n",
    "        subplot.set_xlim((-70, 70))\n",
    "        subplot.set_ylim((-70, 70))\n",
    "        plt.suptitle(\"Angular based outlier detection\")\n",
    "        plt.show()\n"
   ]
  },
  {
   "cell_type": "markdown",
   "metadata": {},
   "source": [
    "## Criando classe para modelo ABOD e LOF"
   ]
  },
  {
   "cell_type": "code",
   "execution_count": 62,
   "metadata": {},
   "outputs": [],
   "source": [
    "from streamer_outlier import TemplateOutlier\n",
    "from pyod.models.abod import ABOD\n",
    "class AngularBasedOutlier(TemplateOutlier):\n",
    "\n",
    "    def __init__(self, inliers, outliers):\n",
    "        self.model = ABOD(n_neighbors=20, contamination=0.001)\n",
    "        TemplateOutlier.__init__(self, inliers, outliers, self.model)"
   ]
  },
  {
   "cell_type": "code",
   "execution_count": 63,
   "metadata": {},
   "outputs": [],
   "source": [
    "from streamer_outlier import TemplateOutlier\n",
    "from pyod.models.lof import LOF\n",
    "\n",
    "class LOFOutlier(TemplateOutlier):\n",
    "\n",
    "    def __init__(self, inliers, outliers):\n",
    "        self.model = LOF(n_neighbors=20, contamination=0.005)\n",
    "        TemplateOutlier.__init__(self, inliers, outliers, self.model)"
   ]
  },
  {
   "cell_type": "markdown",
   "metadata": {},
   "source": [
    "## Carregando dataset"
   ]
  },
  {
   "cell_type": "code",
   "execution_count": 64,
   "metadata": {},
   "outputs": [],
   "source": [
    "data_gen = DataGenerator(2)\n",
    "inliers, outliers = data_gen.generate()"
   ]
  },
  {
   "cell_type": "markdown",
   "metadata": {},
   "source": [
    "## Rodando o experimento"
   ]
  },
  {
   "cell_type": "code",
   "execution_count": 65,
   "metadata": {},
   "outputs": [],
   "source": [
    "model = LOFOutlier(inliers, outliers)"
   ]
  },
  {
   "cell_type": "code",
   "execution_count": 66,
   "metadata": {},
   "outputs": [
    {
     "name": "stdout",
     "output_type": "stream",
     "text": [
      "[[9962    4]\n",
      " [  38    6]]\n",
      "Acuracia: 0.995804195804\n",
      "Precision: 0.6\n",
      "Recall: 0.136363636364\n",
      "F1: 0.222222222222\n"
     ]
    }
   ],
   "source": [
    "model.run(np.r_[outliers, inliers], window_size=.4, slide=.3)"
   ]
  },
  {
   "cell_type": "markdown",
   "metadata": {},
   "source": [
    "## Exibindo resultados"
   ]
  },
  {
   "cell_type": "code",
   "execution_count": 60,
   "metadata": {},
   "outputs": [
    {
     "data": {
      "text/plain": [
       "{'accuracy': 0.9958041958041958,\n",
       " 'f1': 0.22222222222222218,\n",
       " 'precision': 0.6,\n",
       " 'recall': 0.13636363636363635,\n",
       " 'time': 0.1896820068359375}"
      ]
     },
     "execution_count": 60,
     "metadata": {},
     "output_type": "execute_result"
    }
   ],
   "source": [
    "model.stats"
   ]
  },
  {
   "cell_type": "code",
   "execution_count": null,
   "metadata": {},
   "outputs": [],
   "source": []
  }
 ],
 "metadata": {
  "kernelspec": {
   "display_name": "Python 2",
   "language": "python",
   "name": "python2"
  },
  "language_info": {
   "codemirror_mode": {
    "name": "ipython",
    "version": 2
   },
   "file_extension": ".py",
   "mimetype": "text/x-python",
   "name": "python",
   "nbconvert_exporter": "python",
   "pygments_lexer": "ipython2",
   "version": "2.7.15rc1"
  }
 },
 "nbformat": 4,
 "nbformat_minor": 2
}
